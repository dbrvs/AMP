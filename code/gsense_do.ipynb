{
 "cells": [
  {
   "cell_type": "code",
   "execution_count": 4,
   "metadata": {
    "collapsed": false
   },
   "outputs": [
    {
     "name": "stdout",
     "output_type": "stream",
     "text": [
      "The autoreload extension is already loaded. To reload it, use:\n",
      "  %reload_ext autoreload\n"
     ]
    }
   ],
   "source": [
    "#!/usr/bin/env python\n",
    "\n",
    "#DBR last updated 07/2019\n",
    "#This code runs the global sensitivity analysis and outputs a csv for downstream analysis\n",
    "#it can take a really long time to run (like 12 hours)\n",
    "\n",
    "%matplotlib inline  \n",
    "\n",
    "#ipython magic to make ampmodule autoreload\n",
    "%load_ext autoreload\n",
    "%autoreload 2\n",
    "\n",
    "import numpy as np\n",
    "import matplotlib.pyplot as plt\n",
    "import scipy.integrate as spi\n",
    "import pandas as pd\n",
    "import scipy.stats as st \n",
    "import sklearn.linear_model as slm \n",
    "from pyDOE import *\n",
    "#from numba import autojit #for paralellization\n",
    "\n",
    "#pull in the classes to do the sims!\n",
    "import AMPmodule\n",
    "\n",
    "import resource\n",
    "resource.setrlimit(resource.RLIMIT_NOFILE, (1000,-1)) #allow many plots\n",
    "\n"
   ]
  },
  {
   "cell_type": "code",
   "execution_count": null,
   "metadata": {
    "collapsed": true
   },
   "outputs": [],
   "source": [
    "#labels etc for plots\n",
    "trialcolz=['teal','tan']\n",
    "\n",
    "short_outz_labels=['PE','mean VL1','std dev VL1','mean IC50','std dev IC50']\n",
    "long_outz_labels=['prevention efficacy (%)',\n",
    "                  'mean VL1 log10(copies/mL)',\n",
    "                  'std dev VL1 log10(copies/mL)',\n",
    "                  'mean IC50 log10($\\mu$g/mL)',\n",
    "                  'std dev IC50 log10($\\mu$g/mL)']\n",
    "\n",
    "short_varz_labels=[r'$\\log_{10}\\phi$',r'$f$',r'$\\log_{10}x_{50}$',r'$A_0$']\n",
    "long_varz_labels=[r'potency reduction factor, $\\log_{10}\\phi$',\n",
    "                  r'resistant fraction, $f$',\n",
    "                  r'maximum IC50 $\\log_{10}x_{50}$',\n",
    "                  r'initial number infected cells $A_0$']\n",
    "\n",
    "#standardize limits/ticks\n",
    "ytickz=[[0,0.25,0.5,0.75,1],\n",
    "       [0,1,2,3,4,5,6,7],\n",
    "       [1,2,3],\n",
    "       [-1,0,1,2],\n",
    "       [0,1,2]]\n",
    "\n",
    "xtickz=[[0,1,2,3],\n",
    "       [0,0.2,0.4,0.6,0.8,1],\n",
    "       [2,3,4],\n",
    "       [0,5,10,15,20]]"
   ]
  },
  {
   "cell_type": "code",
   "execution_count": 5,
   "metadata": {
    "collapsed": true
   },
   "outputs": [],
   "source": [
    "#function to analyze output from a trial simultaion\n",
    "def analyze_out(trial_list,tr_ctl):\n",
    "    nts=len(trial_list)\n",
    "    PE=np.zeros([nts])\n",
    "    fpvls_avg=np.zeros([nts]); fpvls_std=np.zeros([nts]);\n",
    "    IC50s_avg=np.zeros([nts]); IC50s_std=np.zeros([nts]);\n",
    "\n",
    "    for it in range(nts):\n",
    "        tr=trial_list[it]\n",
    "        fpvls=np.log10(tr.fp_vs[tr.fp_vs>0])\n",
    "        fpis=1+np.floor(tr.fp_ts[tr.fp_ts>0]/7/4)%2 #first positive indicies\n",
    "        fpts=tr.fp_ts[tr.fp_vs>0]\n",
    "\n",
    "        #rescale the IC50 so it matches what will be measured in vitro\n",
    "        IC50s=np.log10(tr.ic50s[tr.fp_vs>0]/tr.iv_phi)\n",
    "        IC50s[IC50s>np.log10(50)]=np.log10(50)\n",
    "\n",
    "        #now trial summary outcomes\n",
    "        PE[it]=1-sum(tr.fp_vs>0)/np.sum(tr_ctl.brks>0)\n",
    "\n",
    "        fpvls_avg[it]=np.nanmean(fpvls)\n",
    "        fpvls_std[it]=np.nanstd(fpvls)\n",
    "\n",
    "        IC50s_avg[it]=np.nanmean(IC50s)\n",
    "        IC50s_std[it]=np.nanstd(IC50s)\n",
    "\n",
    "    outcomes=np.array([PE,fpvls_avg,fpvls_std,IC50s_avg,IC50s_std])\n",
    "\n",
    "    return outcomes"
   ]
  },
  {
   "cell_type": "code",
   "execution_count": 6,
   "metadata": {
    "collapsed": false
   },
   "outputs": [
    {
     "name": "stdout",
     "output_type": "stream",
     "text": [
      "CPU times: user 53.4 s, sys: 288 ms, total: 53.7 s\n",
      "Wall time: 53.5 s\n"
     ]
    }
   ],
   "source": [
    "#now do global sensitivity analyses!\n",
    "D=[10,30]\n",
    "\n",
    "nts=100 #number of trials\n",
    "Nps=100 #number of exposures per trial\n",
    "\n",
    "iv=np.logspace(0,3,nts) #potency factor\n",
    "rf=np.linspace(0.10,1,nts) #resistant fraction, never less than 10%\n",
    "mx=50+np.logspace(0,4,nts) #maximum IC50\n",
    "A0=np.round(np.linspace(1,20,nts)) #initial number of infected cells -- will repeat a bit if nts>20\n",
    "\n",
    "varz=np.array([iv,rf,mx,A0]) #make array of variable values\n",
    "lhvarz=lhs(len(varz), samples=nts).T*varz #latin hypercube samples\n",
    "pltvarz=np.array([np.log10(lhvarz[0,:]),lhvarz[1,:],np.log10(lhvarz[2,:]),np.round(lhvarz[3,:])]) #make array of variable values\n",
    "\n",
    "%time tr_ctl=AMPmodule.trial(name='ctl', nps=Nps, tF=560, dose=0, clade='bimodal', rfrac=0.1, A0=1, iv_phi=1, maxIC50=50, v_flg=False, keep_flg=2)\n",
    "\n",
    "# should take parallel ~nts**2 * cpu_times / num_cores\n",
    "# should take normal nts*2*cpu_times?\n",
    "\n",
    "# Define the function. Each remote function will be executed in a separate process.\n",
    "def run_global(D,iid,Nps,varz,iit):\n",
    "    g_out = AMPmodule.trial(name='D_'+str(D[iid])+'_'+str(iit), nps=Nps, tF=560, \n",
    "                           dose=D[iid], clade='bimodal', \n",
    "                           rfrac=varz[1,iit], A0=varz[3,iit], iv_phi=varz[0,iit], maxIC50=varz[2,iit], \n",
    "                               v_flg=False, keep_flg=0)\n",
    "    return g_out\n"
   ]
  },
  {
   "cell_type": "code",
   "execution_count": 7,
   "metadata": {
    "collapsed": false
   },
   "outputs": [
    {
     "name": "stdout",
     "output_type": "stream",
     "text": [
      "0\n",
      "1\n",
      "2\n",
      "3\n",
      "4\n",
      "5\n",
      "6\n",
      "7\n",
      "8\n",
      "9\n",
      "10\n",
      "11\n",
      "12\n",
      "13\n",
      "14\n",
      "15\n",
      "16\n",
      "17\n",
      "18\n",
      "19\n",
      "20\n",
      "21\n",
      "22\n",
      "23\n",
      "24\n",
      "25\n",
      "26\n",
      "27\n",
      "28\n",
      "29\n",
      "30\n",
      "31\n",
      "32\n",
      "33\n",
      "34\n",
      "35\n",
      "36\n",
      "37\n",
      "38\n",
      "39\n",
      "40\n",
      "41\n",
      "42\n",
      "43\n",
      "44\n",
      "45\n",
      "46\n",
      "47\n",
      "48\n",
      "49\n",
      "50\n",
      "51\n",
      "52\n",
      "53\n",
      "54\n",
      "55\n",
      "56\n",
      "57\n",
      "58\n",
      "59\n",
      "60\n",
      "61\n",
      "62\n",
      "63\n",
      "64\n",
      "65\n",
      "66\n",
      "67\n",
      "68\n",
      "69\n",
      "70\n",
      "71\n",
      "72\n",
      "73\n",
      "74\n",
      "75\n",
      "76\n",
      "77\n",
      "78\n",
      "79\n",
      "80\n",
      "81\n",
      "82\n",
      "83\n",
      "84\n",
      "85\n",
      "86\n",
      "87\n",
      "88\n",
      "89\n",
      "90\n",
      "91\n",
      "92\n",
      "93\n",
      "94\n",
      "95\n",
      "96\n",
      "97\n",
      "98\n",
      "99\n"
     ]
    }
   ],
   "source": [
    "#can I make this parallel?\n",
    "\n",
    "list_tr_global=[[],[]];\n",
    "for iit in range(nts):\n",
    "    for iid in range(len(D)):\n",
    "        list_tr_global[iid].append(run_global(D,iid,Nps,lhvarz,iit))\n",
    "        #list_tr_global[iid].append(run_global.remote(D,iid,counter,Nps,lhvarz,iit))\n",
    "        \n",
    "        \n",
    "    print(iit)\n",
    "#print('done')\n",
    "#lg = ray.get(list_tr_global)\n"
   ]
  },
  {
   "cell_type": "code",
   "execution_count": 8,
   "metadata": {
    "collapsed": false
   },
   "outputs": [
    {
     "name": "stderr",
     "output_type": "stream",
     "text": [
      "/anaconda3/lib/python3.7/site-packages/ipykernel_launcher.py:21: RuntimeWarning: Mean of empty slice\n",
      "/anaconda3/lib/python3.7/site-packages/numpy/lib/nanfunctions.py:1545: RuntimeWarning: Degrees of freedom <= 0 for slice.\n",
      "  keepdims=keepdims)\n",
      "/anaconda3/lib/python3.7/site-packages/ipykernel_launcher.py:24: RuntimeWarning: Mean of empty slice\n"
     ]
    }
   ],
   "source": [
    "#make the total sensitivity analysis data frame\n",
    "v_df=pd.DataFrame(pltvarz.T,columns=['log10phi','f_r','log10x_50','A0'])\n",
    "\n",
    "sa_df=pd.DataFrame() #sensitivity analysis df\n",
    "for iid in range(len(D)):\n",
    "    g_out=analyze_out(list_tr_global[iid],tr_ctl) #analyze trial sims and calculate outputs\n",
    "    o_df = pd.DataFrame(g_out.T,columns=['PE','fpvls_avg','fpvls_std','IC50s_avg','IC50s_std']) #output df\n",
    "    d_df = pd.DataFrame(np.ones([nts])*D[iid],columns=['dose']) #dose df\n",
    "    sa_df=sa_df.append(pd.concat([v_df,o_df,d_df], axis=1))\n",
    "\n",
    "pd.DataFrame.to_csv(sa_df,'data/sa_df.csv') #print the csv for later analysis"
   ]
  },
  {
   "cell_type": "code",
   "execution_count": 10,
   "metadata": {
    "collapsed": true
   },
   "outputs": [],
   "source": [
    "#density plot of breakthrough IC50s\n",
    "for v in range(len(short_varz_labels)):\n",
    "    plt.figure(figsize=(12,5))\n",
    "    for iit in range(nts):    \n",
    "        #for iid in range(len(D)):\n",
    "        tr=list_tr_global[iid][iit]\n",
    "        #rescale the IC50 so it matches what will be measured in vitro\n",
    "        IC50s=np.log10(tr.ic50s[tr.fp_vs>0]/tr.iv_phi)\n",
    "        IC50s[IC50s>np.log10(50)]=np.log10(50)\n",
    "\n",
    "        if IC50s.size:\n",
    "            plt.violinplot(IC50s,positions=[pltvarz[v][iit]],widths=max(pltvarz[v])/nts*2)\n",
    "    plt.ylabel('breakthrough IC50 log10($\\mu$g/mL)',fontsize=14)\n",
    "    plt.xlabel(long_varz_labels[v],fontsize=14)\n",
    "    plt.savefig('figures/global/violinIC50_'+str(v)+'.pdf',dpi=600)\n",
    "plt.close('all')"
   ]
  },
  {
   "cell_type": "code",
   "execution_count": 11,
   "metadata": {
    "collapsed": false
   },
   "outputs": [
    {
     "name": "stderr",
     "output_type": "stream",
     "text": [
      "/anaconda3/lib/python3.7/site-packages/ipykernel_launcher.py:17: RuntimeWarning: invalid value encountered in true_divide\n"
     ]
    }
   ],
   "source": [
    "#density plot of breakthrough IC50s\n",
    "for v in range(len(short_varz_labels)):\n",
    "    plt.figure(figsize=(6,10))\n",
    "    inds=np.argsort(pltvarz[v])\n",
    "    pind=0\n",
    "    pindfac=5\n",
    "    yt=len(inds)/pindfac\n",
    "    for iit in inds:    \n",
    "        for iid in range(len(D)):\n",
    "            tr=list_tr_global[iid][iit]\n",
    "            #rescale the IC50 so it matches what will be measured in vitro\n",
    "            IC50s=np.log10(tr.ic50s[tr.fp_vs>0]/tr.iv_phi)\n",
    "            IC50s[IC50s>np.log10(50)]=np.log10(50)\n",
    "\n",
    "            #plt.violinplot(IC50s,positions=[rf[it]],widths=0.1)\n",
    "            hh=np.histogram(IC50s,bins=10)\n",
    "            plt.fill_between(hh[1][1:],hh[0]/max(hh[0])+pind/pindfac,\n",
    "                             np.ones(len(hh[1][1:]))*pind/pindfac,lw=2,alpha=0.5,color=trialcolz[iid])\n",
    "\n",
    "            plt.ylim([-1,len(inds)/pindfac+1])\n",
    "\n",
    "            pind+=1/2\n",
    "    plt.xlabel('breakthrough IC50 log10($\\mu$g/mL)',fontsize=14)\n",
    "    plt.ylabel(long_varz_labels[v],fontsize=14)\n",
    "    #plt.ylabel('fraction resistant (IC50>50$\\mu$g/mL), $f$',fontsize=14)\n",
    "    plt.yticks([0,yt/4,yt/2,yt*3/4,yt],[0,1/4,1/2,3/4,1])\n",
    "    #plt.savefig('figures/gsense_density-rf.pdf',dpi=600)\n",
    "    plt.savefig('figures/global/densityIC50_'+str(v)+'.pdf',dpi=600)\n",
    "plt.close('all')"
   ]
  },
  {
   "cell_type": "code",
   "execution_count": 15,
   "metadata": {
    "collapsed": false
   },
   "outputs": [
    {
     "name": "stdout",
     "output_type": "stream",
     "text": [
      "exposure week: [78. 17.  5. 58. 67. 10. 66. 73. 31. 79.]\n",
      "exposure interval (1st or 2nd): [2. 1. 2. 1. 1. 1. 1. 1. 2. 2.]\n"
     ]
    },
    {
     "name": "stderr",
     "output_type": "stream",
     "text": [
      "/anaconda3/lib/python3.7/site-packages/ipykernel_launcher.py:33: RuntimeWarning: invalid value encountered in double_scalars\n",
      "/anaconda3/lib/python3.7/site-packages/ipykernel_launcher.py:34: RuntimeWarning: invalid value encountered in double_scalars\n"
     ]
    },
    {
     "data": {
      "image/png": "[encoded data removed]",
      "text/plain": [
       "<Figure size 504x216 with 2 Axes>"
      ]
     },
     "metadata": {
      "needs_background": "light"
     },
     "output_type": "display_data"
    },
    {
     "data": {
      "image/png": "[encoded data removed]",
      "text/plain": [
       "<Figure size 288x216 with 1 Axes>"
      ]
     },
     "metadata": {
      "needs_background": "light"
     },
     "output_type": "display_data"
    }
   ],
   "source": [
    "#show how much the delay effect varies across global sensitivity analysis?\n",
    "\n",
    "#have to figure out if detected interval represents real exposure interval\n",
    "\n",
    "#check the calculation\n",
    "print('exposure week:',np.floor(tr_ctl.ex_ts[:10]/7))\n",
    "print('exposure interval (1st or 2nd):',1+np.floor(tr_ctl.ex_ts[:10]/7/4)%2)\n",
    "\n",
    "#make the matrix of exposures > detections\n",
    "def calc_brksmat(tr):\n",
    "    exts=1+np.floor(tr.ex_ts[tr.fp_ts>0]/7/4)%2\n",
    "    fpts=1+np.floor(tr.fp_ts[tr.fp_ts>0]/7/4)%2\n",
    "    brksmat=np.zeros([2,2])\n",
    "    for i in range(len(exts)):    \n",
    "        if exts[i]==1 and fpts[i]==1:\n",
    "            brksmat[0,0]+=1 #exp 1, det 1\n",
    "        if exts[i]==1 and fpts[i]==2:\n",
    "            brksmat[0,1]+=1 #exp 1, det 2\n",
    "        if exts[i]==2 and fpts[i]==1:\n",
    "            brksmat[1,0]+=1 #exp 2, det next 1\n",
    "        if exts[i]==2 and fpts[i]==2:\n",
    "            brksmat[1,1]+=1 #exp 2, det 2\n",
    "\n",
    "    return brksmat\n",
    "\n",
    "#calculate for all trials\n",
    "obstrue=np.zeros([nts])\n",
    "obsfalse=np.zeros([nts])\n",
    "for iit in inds:    \n",
    "    #for iid in range(len(D)):\n",
    "    tr=list_tr_global[iid][iit]\n",
    "    brksmat=calc_brksmat(tr)\n",
    "    obstrue[iit]=(brksmat[0,0]+brksmat[1,1])/np.sum(brksmat)\n",
    "    obsfalse[iit]=(brksmat[0,1]+brksmat[1,0])/np.sum(brksmat)\n",
    "    \n",
    "goodind=~np.isnan(obstrue)\n",
    "obstrue=obstrue[goodind]\n",
    "obsfalse=obsfalse[goodind]\n",
    "\n",
    "plt.figure(figsize=(7,3))\n",
    "\n",
    "plt.subplot(121)\n",
    "plt.scatter(iv[goodind],obstrue,color='steelblue')\n",
    "plt.scatter(iv[goodind],obsfalse,color='purple')\n",
    "plt.semilogx()\n",
    "plt.xlabel(short_varz_labels[0])\n",
    "plt.ylabel('fraction')\n",
    "plt.legend(['obs=exp',r'obs$\\ne$exp'])\n",
    "\n",
    "plt.subplot(122)\n",
    "plt.scatter(rf[goodind],obstrue,color='steelblue')\n",
    "plt.scatter(rf[goodind],obsfalse,color='purple')\n",
    "plt.xlabel(short_varz_labels[1])\n",
    "\n",
    "plt.tight_layout()\n",
    "plt.savefig('figures/gsense_delays1.pdf',dpi=600)\n",
    "\n",
    "#visualize another way\n",
    "plt.figure(figsize=(4,3))\n",
    "plt.boxplot([obstrue,obsfalse],positions=[1,2],widths=0.7)#,color='k')\n",
    "plt.scatter(np.random.normal(1,0.1,len(obstrue)),obstrue,color='steelblue')\n",
    "plt.scatter(np.random.normal(2,0.1,len(obsfalse)),obsfalse,color='purple')\n",
    "#plt.grid()\n",
    "plt.xticks([1,2],['obs=exp',r'obs$\\ne$exp'])\n",
    "plt.ylabel('proportion')# across 100 \\n global sensitivity analyses')\n",
    "plt.yticks(np.linspace(0,1,11))\n",
    "plt.ylim()\n",
    "plt.tight_layout()\n",
    "\n",
    "plt.savefig('figures/gsense_delays2.pdf',dpi=600)\n"
   ]
  },
  {
   "cell_type": "code",
   "execution_count": null,
   "metadata": {
    "collapsed": true
   },
   "outputs": [],
   "source": []
  }
 ],
 "metadata": {
  "kernelspec": {
   "display_name": "Python 3",
   "language": "python",
   "name": "python3"
  },
  "language_info": {
   "codemirror_mode": {
    "name": "ipython",
    "version": 3
   },
   "file_extension": ".py",
   "mimetype": "text/x-python",
   "name": "python",
   "nbconvert_exporter": "python",
   "pygments_lexer": "ipython3",
   "version": "3.6.0"
  }
 },
 "nbformat": 4,
 "nbformat_minor": 1
}
