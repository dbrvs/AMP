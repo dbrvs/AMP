{
 "cells": [
  {
   "cell_type": "code",
   "execution_count": 1,
   "metadata": {
    "collapsed": false
   },
   "outputs": [
    {
     "name": "stderr",
     "output_type": "stream",
     "text": [
      "/Users/danielreeves/anaconda/lib/python3.5/site-packages/pandas/computation/__init__.py:19: UserWarning: The installed version of numexpr 2.4.4 is not supported in pandas and will be not be used\n",
      "\n",
      "  UserWarning)\n"
     ]
    }
   ],
   "source": [
    "#!/usr/bin/env python\n",
    "%matplotlib inline  \n",
    "\n",
    "import numpy as np\n",
    "import matplotlib.pyplot as plt\n",
    "\n",
    "from scipy.optimize import curve_fit\n",
    "from scipy import stats  \n",
    "\n",
    "import pandas as pd"
   ]
  },
  {
   "cell_type": "code",
   "execution_count": 2,
   "metadata": {
    "collapsed": false
   },
   "outputs": [],
   "source": [
    "#use previous fitting\n",
    "\n",
    "#PK decay kinetics (ask Yunda for ranges!)\n",
    "def Ab_conc(t,conc):\n",
    "    r1=1.5\n",
    "    r2=0.3\n",
    "    c=conc*7\n",
    "    return c*np.exp(-r1*t)+c/4*np.exp(-r2*t)\n",
    "\n",
    "#to draw from my fit distribution from previous\n",
    "def draw_IC():\n",
    "    x=np.linspace(-1,2,1000)\n",
    "    gmix=2*norm.pdf(x, -0.01, 0.3)+norm.pdf(x, 1.7, 0.2)\n",
    "    fitIC=gmix/sum(gmix)\n",
    "    return np.random.choice(x, p=fitIC(x))\n",
    "\n",
    "#translate to dose response curve\n",
    "def response80(dose,IC80):\n",
    "    hill=1.3\n",
    "    IC50 = IC80*4**(1/hill) \n",
    "    res = 1/(1+(dose/IC50)**-hill)\n",
    "    return res\n"
   ]
  },
  {
   "cell_type": "code",
   "execution_count": 3,
   "metadata": {
    "collapsed": true
   },
   "outputs": [],
   "source": [
    "#updating the rates of events\n",
    "num_rates=10; num_states=5; r=np.zeros(num_rates); T=np.zeros([num_rates,num_states])\n",
    "\n",
    "def update_rates(X,t,Ab0,IC80,IC80_res):\n",
    "        \n",
    "    dose=Ab_conc((t%56)/7,Ab0)\n",
    "\n",
    "    prop_inhib=response80(dose,IC80)\n",
    "    prop_inhib_res=response80(dose,IC80_res) #includes Ab resistant IC80\n",
    "\n",
    "    Bt=Bt0*(1-prop_inhib) #ab dependent infectivity\n",
    "    Btr=Bt0*(1-prop_inhib_res) #ab dependent infectivity for resistant\n",
    "    \n",
    "    S=X[0]; I=X[1]; V=X[2]; Ir=X[3]; Vr=X[4] #including resistant states\n",
    "    \n",
    "    p=np.random.poisson(pi)\n",
    "    pr=np.random.poisson(pir)\n",
    "    \n",
    "    r[0] = aS;             T[0][:]=[+1,0,0,0,0]  #constant production \n",
    "    r[1] = dS*S;           T[1][:]=[-1,0,0,0,0]  #density dependent susceptible death\n",
    "    r[2] = Bt*S*V;         T[2][:]=[-1,1,-1,0,0] #active typical infection\n",
    "    r[3] = Btr*S*Vr;       T[3][:]=[0,0,0,0,0] #active resistant infection\n",
    "    r[4] = dI*I;           T[4][:]=[0,-1,p,0,0]  #infected cell burst\n",
    "    r[5] = dIr*I;          T[5][:]=[0,0,0,0,0] #resistant infected cell burst\n",
    "    r[6] = gam*V;          T[6][:]=[0,0,-1,0,0]  #viral clearance\n",
    "    r[7] = gamr*Vr;        T[7][:]=[0,0,0,0,0]  #resistant viral clearance\n",
    "    r[8] = mur*Vr;         T[8][:]=[0,0,0,0,0]  #resistant to regular\n",
    "    r[9] = mu*V;           T[9][:]=[0,0,0,0,0]  #regular to resistant\n",
    "        \n",
    "    return r,T #updating the rates of events\n",
    "\n",
    "#function that solves stochastically using tau-leap method\n",
    "def bnabs_tauleap(t,Ab0,inc_time,IC80,IC80r,X0):\n",
    "\n",
    "    dt=t[1]; x=X0; y=[] #initialize\n",
    "    for ti in t:\n",
    "        \n",
    "        y.append(x) #the list of states\n",
    "\n",
    "        r,T = update_rates(x,ti,Ab0,IC80,IC80r) #make new rate vector\n",
    "        \n",
    "        E = np.random.poisson(r*dt) #calculate events\n",
    "        \n",
    "        dx = np.sum(np.matrix.transpose(T)*E,1) #calculate change in state\n",
    "        \n",
    "        x=x+dx #update state variable\n",
    "        \n",
    "        #if ti==inc_time:\n",
    "            #x[3]=x[3]+1\n",
    " \n",
    "        x[x<1]=0 #make sure no negative numbers or fractions\n",
    "        \n",
    "    return np.array(y)"
   ]
  },
  {
   "cell_type": "code",
   "execution_count": 4,
   "metadata": {
    "collapsed": false
   },
   "outputs": [
    {
     "name": "stdout",
     "output_type": "stream",
     "text": [
      "R_0 2.173913043478261\n",
      "ep_c 0.54\n"
     ]
    },
    {
     "data": {
      "image/png": "[encoded data removed]",
      "text/plain": [
       "<matplotlib.figure.Figure at 0x109a25b70>"
      ]
     },
     "metadata": {},
     "output_type": "display_data"
    }
   ],
   "source": [
    "#do a single simulation without antibodies\n",
    "\n",
    "# parameters for viral dynamics model\n",
    "#do the population simulations\n",
    "\n",
    "#parameters for simulations\n",
    "#cellular parameters\n",
    "vol=1e6\n",
    "dA  = 1.0\n",
    "aS  = 100*vol          # constant growth rate of suseceptible cells\n",
    "dS  = 0.03         # death rate of suseceptible cells\n",
    "Bt0 = 3e-5/vol*0.05   # infection rate of T-cells\n",
    "dI  = 1      # death rate of infected cells\n",
    "dIr = 1      # death rate of infected cells\n",
    "pi = 1e4    # burst rate of virus from cells\n",
    "pir = 1e3    # burst rate of virus from cells\n",
    "gam = 23     # virus clearance rate\n",
    "gamr= 23     # virus clearance rate\n",
    "mu  = 0   # mutation rate\n",
    "mur = 0   # mutation rate\n",
    "\n",
    "R0=aS*Bt0*pi/gam/dS/dA\n",
    "\n",
    "print('R_0',R0)\n",
    "print('ep_c',1-1/R0)\n",
    "\n",
    "t=np.linspace(0,3*7,1e5)\n",
    "\n",
    "Ab0=0 #10mg/kg\n",
    "inc_time=0 #day 1 incidence\n",
    "IC80=1\n",
    "IC80r=10\n",
    "\n",
    "X0=np.array([aS/dS,1,0,0,0])\n",
    "\n",
    "for i in range(10):\n",
    "    sol = bnabs_tauleap(t,Ab0,inc_time,IC80,IC80r,X0)\n",
    "    plt.subplot(131)\n",
    "    plt.plot(t,sol[:,0])\n",
    "    plt.subplot(132)\n",
    "    plt.loglog(t,sol[:,1]+1/vol,color='forestgreen')\n",
    "    plt.loglog(t,sol[:,3]+1/vol,color='lime')\n",
    "    plt.subplot(133)\n",
    "    plt.loglog(t,sol[:,2]+1/vol,color='purple')\n",
    "    plt.loglog(t,sol[:,4]+1/vol,color='deeppink')\n",
    "    #plt.ylim([1,1e8])\n",
    "    \n",
    "plt.tight_layout()"
   ]
  },
  {
   "cell_type": "code",
   "execution_count": 5,
   "metadata": {
    "collapsed": false
   },
   "outputs": [
    {
     "data": {
      "text/plain": [
       "[<matplotlib.lines.Line2D at 0x109ce55f8>]"
      ]
     },
     "execution_count": 5,
     "metadata": {},
     "output_type": "execute_result"
    },
    {
     "data": {
      "image/png": "[encoded data removed]",
      "text/plain": [
       "<matplotlib.figure.Figure at 0x10e681cf8>"
      ]
     },
     "metadata": {},
     "output_type": "display_data"
    }
   ],
   "source": [
    "plt.semilogy(t,sol[:,2])"
   ]
  },
  {
   "cell_type": "code",
   "execution_count": null,
   "metadata": {
    "collapsed": true
   },
   "outputs": [],
   "source": []
  }
 ],
 "metadata": {
  "kernelspec": {
   "display_name": "Python 3",
   "language": "python",
   "name": "python3"
  },
  "language_info": {
   "codemirror_mode": {
    "name": "ipython",
    "version": 3
   },
   "file_extension": ".py",
   "mimetype": "text/x-python",
   "name": "python",
   "nbconvert_exporter": "python",
   "pygments_lexer": "ipython3",
   "version": "3.6.0"
  }
 },
 "nbformat": 4,
 "nbformat_minor": 0
}
