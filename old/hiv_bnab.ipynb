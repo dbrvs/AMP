{
 "cells": [
  {
   "cell_type": "code",
   "execution_count": 2,
   "metadata": {
    "collapsed": false
   },
   "outputs": [],
   "source": [
    "#!/usr/bin/env python\n",
    "%matplotlib inline  \n",
    "\n",
    "import numpy as np\n",
    "import matplotlib.pyplot as plt\n",
    "import scipy.integrate as spi\n",
    "from scipy.stats import lognorm\n"
   ]
  },
  {
   "cell_type": "code",
   "execution_count": 3,
   "metadata": {
    "collapsed": true
   },
   "outputs": [],
   "source": [
    "#functions for Abs\n",
    "def response(dose):\n",
    "    hill=1.3 #refs?\n",
    "    IC50=1 #[ug/uL]\n",
    "    res = 1/(1+(dose/IC50)**-hill)\n",
    "    return res\n",
    "\n",
    "def Ab_conc(Ab0,t):\n",
    "    #avg rates from lynch - rebecca\n",
    "    \n",
    "    c1 = Ab0*2000/40; #approximate conversion from mass e.g. 40mg/kg -> ~2000ug/uL\n",
    "    c2 = 0.4*c1 #fraction of infusion in second decay\n",
    "    \n",
    "    r1 = 1.1; r2 = 0.1; #decay rates [1/day]\n",
    "    \n",
    "    return c1*np.exp(-r1*t)+c2*np.exp(-r2*t)\n",
    "\n",
    "def response80(dose,IC80):\n",
    "    hill=1.3\n",
    "    IC50 = IC80*4**(1/hill) \n",
    "    res = 1/(1+(dose/IC50)**-hill)\n",
    "    return res\n",
    "\n",
    "\n"
   ]
  },
  {
   "cell_type": "code",
   "execution_count": 4,
   "metadata": {
    "collapsed": false
   },
   "outputs": [],
   "source": [
    "def plot_Ab_details(Ab0,t,c):\n",
    "\n",
    "    #data from lynch\n",
    "    lo80=10**-0.9\n",
    "    hi80=10**1.7\n",
    "\n",
    "    #dose response curve\n",
    "    dose=np.logspace(-2,3)\n",
    "    res = response(dose);\n",
    "    res80_lo = response80(dose,lo80);\n",
    "    res80_hi = response80(dose,hi80);\n",
    "\n",
    "    plt.subplot(131)\n",
    "    plt.semilogy(t/7,Ab_conc(Ab0,t),color=c)\n",
    "    plt.xlabel('time (weeks)')\n",
    "    plt.ylabel('concentration bnAbs ($\\mu$g/$\\mu$L)')\n",
    "    plt.ylim([0.1,3e3])\n",
    "\n",
    "    plt.subplot(132)\n",
    "    plt.semilogx(dose,res,color='k')\n",
    "    plt.fill_between(dose,res80_lo,res80_hi,color='gray',alpha=0.1)\n",
    "    plt.xlabel('dose (Abs per $\\mu$L)')\n",
    "    plt.ylabel('response (proportion inhibited)')\n",
    "\n",
    "    #inhibition over time\n",
    "    prop_inhib = response(Ab_conc(Ab0,t))\n",
    "\n",
    "    prop_inhib_lo = response80(Ab_conc(Ab0,t),lo80);\n",
    "    prop_inhib_hi = response80(Ab_conc(Ab0,t),hi80);\n",
    "\n",
    "    plt.subplot(133)\n",
    "    plt.plot(t/7,prop_inhib,color=c)\n",
    "    plt.fill_between(t/7,prop_inhib_lo,prop_inhib_hi,color=c,alpha=0.1)\n",
    "    #plt.fill_between(t/7, prop_inhib, np.ones(len(t)), alpha='0.5',color='gray') #grey fill to 1\n",
    "    plt.xlabel('time (weeks)')\n",
    "    plt.ylabel('proportion inhibited')\n",
    "    plt.ylim([0.5,1])\n",
    "\n",
    "    plt.tight_layout()"
   ]
  },
  {
   "cell_type": "code",
   "execution_count": null,
   "metadata": {
    "collapsed": true
   },
   "outputs": [],
   "source": []
  },
  {
   "cell_type": "code",
   "execution_count": 15,
   "metadata": {
    "collapsed": false
   },
   "outputs": [
    {
     "name": "stdout",
     "output_type": "stream",
     "text": [
      "-0.899629454882 1.70385001158\n"
     ]
    },
    {
     "data": {
      "image/png": "[encoded data removed]",
      "text/plain": [
       "<matplotlib.figure.Figure at 0x109301be0>"
      ]
     },
     "metadata": {},
     "output_type": "display_data"
    },
    {
     "data": {
      "image/png": "[encoded data removed]",
      "text/plain": [
       "<matplotlib.figure.Figure at 0x10b4456a0>"
      ]
     },
     "metadata": {},
     "output_type": "display_data"
    }
   ],
   "source": [
    "IC80 = np.array([\n",
    "        [0.174,0.239,0.309,0.287,0.184,0.410,0.539,0.388,0.783,0.648],\n",
    "        [3.801,13.967,32.949,34.874,37.982,50.565,47.721,38.042,49.204,47.176],\n",
    "        [2.042,1.238,1.059,1.309,1.087,0.878,0.854,0.442,0.317,0.260],\n",
    "        [0.685,0.965,1.179,0.801,0.801,0.811,1.006,0.654,0.478,0.286,0.126],\n",
    "        [5.335,2.536,1.654,1.650,1.721,1.223,0.796,0.662,0.511,0.564],\n",
    "        [6.206,2.486,2.705,1.551,1.322,1.052,0.803],\n",
    "        [42.586,40.768,35.319,41.305,46.946,24.380,21.407,18.528,22.946,15.874,12.792,7.985,8.204,3.383,1.297],\n",
    "        [2.836,3.223,3.876,2.286,2.383,1.978,1.595,1.552,1.134,1.555]])\n",
    "\n",
    "#between patient variability in IC80\n",
    "plt.figure(figsize=(4,3),dpi=600)\n",
    "for i in range(8):\n",
    "    plt.violinplot(IC80[i],[i])\n",
    "plt.xticks(range(8),np.arange(8)+20)\n",
    "plt.yscale('log')    \n",
    "plt.xlabel('patient (Lynch et al. Sci Trans Med 2015)')\n",
    "plt.ylabel('$IC_{80}$')\n",
    "plt.tight_layout()\n",
    "plt.gcf().savefig('between_patient_IC80.pdf')  # No warning now\n",
    "\n",
    "plt.figure(figsize=(4,3),dpi=600)\n",
    "plt.hist(np.log10(np.hstack(IC80)))\n",
    "plt.xlabel('$\\log_{10}(IC_{80})$')\n",
    "plt.ylabel('counts')\n",
    "plt.tight_layout()\n",
    "plt.gcf().savefig('IC80_distribution.pdf')  # No warning now\n",
    "\n",
    "\n",
    " "
   ]
  },
  {
   "cell_type": "code",
   "execution_count": 101,
   "metadata": {
    "collapsed": false
   },
   "outputs": [
    {
     "data": {
      "image/png": "[encoded data removed]",
      "text/plain": [
       "<matplotlib.figure.Figure at 0x10a0cca90>"
      ]
     },
     "metadata": {},
     "output_type": "display_data"
    }
   ],
   "source": [
    "#trying to fit the distribution       \n",
    "def func1d_pablo(x, nbins):\n",
    "    histo, bin_edges = np.histogram(x,nbins)\n",
    "    bin_center = 0.5*(bin_edges[1:] + bin_edges[:-1])\n",
    "    #plt.step(bin_center,histo,where='mid')\n",
    "    return histo,bin_center\n",
    "\n",
    "\n",
    "nbins=10\n",
    "\n",
    "p_x,x=func1d_pablo(np.log10(np.hstack(IC80)),20)\n",
    "\n",
    "#d1=norm.fit(p_x[0:7]/sum(p_x))\n",
    "#d2=norm.fit(p_x[8:]/sum(p_x))\n",
    "\n",
    "plt.figure(figsize=(5,4),dpi=600)\n",
    "    \n",
    "\n",
    "p1=norm.pdf(x, -0.01, 0.4)\n",
    "p2=norm.pdf(x, 1.7, 0.2)\n",
    "p_fit=(2*p1+p2)\n",
    "p_fit=p_fit/sum(p_fit)\n",
    "\n",
    "plt.scatter(x,p_x/sum(p_x),lw=3)\n",
    "plt.plot(x,p_fit,lw=3,color='steelblue')\n",
    "\n",
    "#plt.plot(x,p1/3)\n",
    "#plt.plot(x,p2/5)\n",
    "\n",
    "\n",
    "plt.xlabel('$\\log_{10}(IC_{80})$',fontsize=16)\n",
    "plt.ylabel('$p(IC_{80})$',fontsize=16)\n",
    "plt.legend(['fit','data'],loc=2,fontsize=10)\n",
    "plt.tight_layout()\n",
    "\n",
    "\n",
    "plt.gcf().savefig('fit_dist.pdf')  # No warning now\n"
   ]
  },
  {
   "cell_type": "code",
   "execution_count": 8,
   "metadata": {
    "collapsed": true
   },
   "outputs": [],
   "source": [
    "#updating the rates of events\n",
    "def update_rates(X,t,Ab0):\n",
    "    \n",
    "    prop_inhib = response(Ab_conc(Ab0,t%56)) #modulo 8 weeks\n",
    "    \n",
    "    Bt=Bt0*(1-prop_inhib) #ab dependent infectivity\n",
    "    \n",
    "    S  = X[0]\n",
    "    I  = X[1]\n",
    "    Im = X[2]\n",
    "    V  = X[3]\n",
    "    Vm = X[4]\n",
    "    \n",
    "    r = np.array([\n",
    "            aS,               # 0 -> S\n",
    "            dS*S,             # S -> 0\n",
    "            S*Bt*V*(1-mu),    # S+V  -> I  \n",
    "            S*Bt*V*mu,        # S+V  -> I*\n",
    "            #S*Bt0*Vm*mu,      # S+V* -> I ignore back mutations\n",
    "            S*Bt0*Vm,         # S+V* -> I*    \n",
    "            dI*I,             # I -> poisson(pi)*V\n",
    "            dI*Im,            # I* -> poisson(pi)*V*\n",
    "            gam*V,            # V -> 0\n",
    "            gam*Vm            # V* ->0\n",
    "            ])\n",
    "            \n",
    "    return r#updating the rates of events\n",
    "\n",
    "#keeping track of the transitions as a matrix\n",
    "def update_transition_mat(x,t):    \n",
    "    \n",
    "    pr1 = np.random.poisson(pi);\n",
    "    pr2 = np.random.poisson(pi/10);\n",
    "    \n",
    "                #[S ,I  ,I* ,V  ,V*]\n",
    "    T=np.array([\n",
    "                [ 1 ,0  ,0  ,0  ,0  ],\n",
    "                [-1 ,0  ,0  ,0  ,0  ],\n",
    "                [-1 ,1  ,0  ,-1 ,0  ],\n",
    "                [-1 ,0  ,1  ,-1 ,0  ],\n",
    "                #[-1 ,1  ,0  ,0  ,-1 ],\n",
    "                [-1 ,0  ,1  ,0  ,-1 ],\n",
    "                [0  ,-1 ,0  ,pr1,0  ],\n",
    "                [0  ,0  ,-1 ,0  ,pr2],\n",
    "                [0  ,0  ,0  ,-1 ,0  ],\n",
    "                [0  ,0  ,0  ,0  ,-1 ]\n",
    "                ])\n",
    "    \n",
    "    return T\n",
    "\n",
    "#function that solves stochastically using tau-leap method\n",
    "def bnabs_tauleap(t,Ab0,inc_time):\n",
    "\n",
    "    dt=t[1]; x=np.array([aS/dS,0,0,0,0]); y=[] #initialize\n",
    "    for ti in t:\n",
    "        \n",
    "        y.append(x) #the list of states\n",
    "        \n",
    "        r = update_rates(x,ti,Ab0) #make new rate vector\n",
    "        \n",
    "        E = np.random.poisson(r*dt) #calculate events\n",
    "        \n",
    "        dx = np.sum(np.matrix.transpose(update_transition_mat(x,ti))*E,1) #calculate change in state\n",
    "        \n",
    "        x=x+dx #update state variable\n",
    "        \n",
    "        if ti==inc_time:\n",
    "            x[1] = x[1] + 1\n",
    " \n",
    "        x[x<1]=0 #make sure no negative numbers or fractions\n",
    "        \n",
    "    return np.array(y)"
   ]
  },
  {
   "cell_type": "code",
   "execution_count": 9,
   "metadata": {
    "collapsed": false
   },
   "outputs": [
    {
     "ename": "NameError",
     "evalue": "name 'aS' is not defined",
     "output_type": "error",
     "traceback": [
      "\u001b[0;31m---------------------------------------------------------------------------\u001b[0m",
      "\u001b[0;31mNameError\u001b[0m                                 Traceback (most recent call last)",
      "\u001b[0;32m<ipython-input-9-f15afb4cc7e1>\u001b[0m in \u001b[0;36m<module>\u001b[0;34m()\u001b[0m\n\u001b[1;32m      1\u001b[0m \u001b[0mt\u001b[0m\u001b[0;34m=\u001b[0m\u001b[0mnp\u001b[0m\u001b[0;34m.\u001b[0m\u001b[0mlinspace\u001b[0m\u001b[0;34m(\u001b[0m\u001b[0;36m0\u001b[0m\u001b[0;34m,\u001b[0m\u001b[0;36m2\u001b[0m\u001b[0;34m*\u001b[0m\u001b[0;36m7\u001b[0m\u001b[0;34m,\u001b[0m\u001b[0;36m1e4\u001b[0m\u001b[0;34m)\u001b[0m\u001b[0;34m\u001b[0m\u001b[0m\n\u001b[1;32m      2\u001b[0m \u001b[0;34m\u001b[0m\u001b[0m\n\u001b[0;32m----> 3\u001b[0;31m \u001b[0mdt\u001b[0m\u001b[0;34m=\u001b[0m\u001b[0mt\u001b[0m\u001b[0;34m[\u001b[0m\u001b[0;36m1\u001b[0m\u001b[0;34m]\u001b[0m\u001b[0;34m;\u001b[0m \u001b[0mx\u001b[0m\u001b[0;34m=\u001b[0m\u001b[0mnp\u001b[0m\u001b[0;34m.\u001b[0m\u001b[0marray\u001b[0m\u001b[0;34m(\u001b[0m\u001b[0;34m[\u001b[0m\u001b[0maS\u001b[0m\u001b[0;34m/\u001b[0m\u001b[0mdS\u001b[0m\u001b[0;34m,\u001b[0m\u001b[0;36m0\u001b[0m\u001b[0;34m,\u001b[0m\u001b[0;36m0\u001b[0m\u001b[0;34m,\u001b[0m\u001b[0;36m0\u001b[0m\u001b[0;34m,\u001b[0m\u001b[0;36m0\u001b[0m\u001b[0;34m]\u001b[0m\u001b[0;34m)\u001b[0m\u001b[0;34m;\u001b[0m \u001b[0my\u001b[0m\u001b[0;34m=\u001b[0m\u001b[0;34m[\u001b[0m\u001b[0;34m]\u001b[0m \u001b[0;31m#initialize\u001b[0m\u001b[0;34m\u001b[0m\u001b[0m\n\u001b[0m\u001b[1;32m      4\u001b[0m \u001b[0;34m\u001b[0m\u001b[0m\n\u001b[1;32m      5\u001b[0m \u001b[0mti\u001b[0m\u001b[0;34m=\u001b[0m\u001b[0mt\u001b[0m\u001b[0;34m[\u001b[0m\u001b[0;36m5\u001b[0m\u001b[0;34m]\u001b[0m\u001b[0;34m\u001b[0m\u001b[0m\n",
      "\u001b[0;31mNameError\u001b[0m: name 'aS' is not defined"
     ]
    }
   ],
   "source": [
    "t=np.linspace(0,2*7,1e4)\n",
    "\n",
    "dt=t[1]; x=np.array([aS/dS,0,0,0,0]); y=[] #initialize\n",
    "\n",
    "ti=t[5]\n",
    "Ab0=0\n",
    "\n",
    "r = update_rates(x,ti,Ab0) #make new rate vector\n",
    "        \n",
    "E = np.random.poisson(r*dt) #calculate events\n",
    "\n",
    "T= update_transition_mat(x,ti)"
   ]
  },
  {
   "cell_type": "code",
   "execution_count": null,
   "metadata": {
    "collapsed": false
   },
   "outputs": [],
   "source": [
    "np.dot(np.transpose(T),E)"
   ]
  },
  {
   "cell_type": "code",
   "execution_count": null,
   "metadata": {
    "collapsed": false
   },
   "outputs": [],
   "source": [
    "#do a single simulation without antibodies\n",
    "\n",
    "# parameters for viral dynamics model\n",
    "aS  = 1e8  # constant growth rate of suseceptible cells\n",
    "dS  = 0.5    # death rate of suseceptible cells\n",
    "Bt0 = 1e-10   # infection rate of T-cells\n",
    "dI  = 1      # death rate of infected cells\n",
    "pi  = 1e4    # burst rate of virus from cells\n",
    "gam = 23     # virus clearance rate\n",
    "mu  = 0.01   # fraction that are Ab resistant\n",
    "\n",
    "R0=pi/gam*Bt0*aS/dS*(1-mu)/dI #calculate basic reproducive number (~8-11 for HIV)\n",
    "print('Basic reproductive number is', R0)\n",
    "\n",
    "num_sims=7; \n",
    "t=np.linspace(0,2*7,1e4)\n",
    "\n",
    "plt.figure(figsize=(6,4),dpi=600)\n",
    "for i in range(num_sims):\n",
    "    tlp_sol = bnabs_tauleap(t,0,0)\n",
    "    plt.subplot(211)\n",
    "    plt.semilogy(t/7,tlp_sol[:,1]+1,alpha=0.6)\n",
    "    plt.ylabel('Infected cells ($I$)')\n",
    "    plt.ylim([0.1,1e9])\n",
    "    plt.subplot(212)\n",
    "    plt.semilogy(t/7,tlp_sol[:,2]+1,alpha=0.6)\n",
    "    plt.ylim([0.1,1e9])\n",
    "    plt.ylabel('bnAb resistant \\n infected cells ($I*$)')\n",
    "\n",
    "plt.xlabel('time (weeks)')\n",
    "\n",
    "plt.tight_layout()\n",
    "plt.gcf().savefig('control_R0-8_6.pdf')  # No warning now\n"
   ]
  },
  {
   "cell_type": "code",
   "execution_count": null,
   "metadata": {
    "collapsed": false
   },
   "outputs": [],
   "source": [
    "#2 dose simulation\n",
    "\n",
    "t=np.linspace(0,16*7,1e3) #2 dose curve\n",
    "\n",
    "Ab0=10; Rt=(1-response(Ab_conc(Ab0,t%56)))*R0 #R0 over time\n",
    "\n",
    "num_sims=10; \n",
    "trial_inds=np.linspace(0,len(t)-100,num_sims)\n",
    "\n",
    "plt.figure(figsize=(6,6),dpi=600)\n",
    "for i in range(num_sims):\n",
    "    tlp_sol = bnabs_tauleap(t,Ab0,t[trial_inds[i]])\n",
    "    plt.subplot(311)\n",
    "    plt.plot(t/7,Rt,'k')\n",
    "    plt.ylabel(r'$\\mathcal{R}(Ab,t)$',fontsize=12)\n",
    "    plt.subplot(312)\n",
    "    plt.semilogy(t/7,tlp_sol[:,1]+1,alpha=0.6)\n",
    "    plt.ylabel('Infected cells ($I$)')\n",
    "    plt.ylim([1e-1,1e9])\n",
    "    plt.subplot(313)\n",
    "    plt.semilogy(t/7,tlp_sol[:,2]+1,alpha=0.6)\n",
    "    plt.ylabel('bnAb resistant \\n infected cells ($I*$)')\n",
    "    plt.ylim([1e-1,1e9])\n",
    "#plt.semilogy(t/7,tlp_sol[:,4]+0.01,alpha=0.6)\n",
    "#plt.ylim([0.1,1e7])\n",
    "#plt.xlim([0,t[-1]/7])\n",
    "plt.xlabel('time (weeks)')\n",
    "\n",
    "plt.tight_layout()\n",
    "plt.gcf().savefig('10_trials_10mg-kg.pdf')  # No warning now\n"
   ]
  },
  {
   "cell_type": "code",
   "execution_count": null,
   "metadata": {
    "collapsed": false
   },
   "outputs": [],
   "source": [
    "#show stuff about antibodies\n",
    "\n",
    "c1='c'; c2='m'\n",
    "t=np.linspace(0,8*7,1e3) #2 dose curve\n",
    "\n",
    "#first plot Ab details\n",
    "plt.figure(figsize=(8,3),dpi=600)\n",
    "plot_Ab_details(30,t,c1)\n",
    "plot_Ab_details(10,t,c2)\n",
    "plt.legend(['30mg/kg','10mg/kg'],loc=0,fontsize=10)\n",
    "plt.gcf().savefig('Ab_details.pdf')  # No warning now\n",
    "\n",
    "#plot the theoretical treatment plan\n",
    "plt.figure(figsize=(4,4),dpi=600)\n",
    "plt.subplot(211)\n",
    "plt.semilogy(t/7,Ab_conc(10,t),color=c2)\n",
    "plt.semilogy(t/7,Ab_conc(30,t),color=c1)\n",
    "\n",
    "plt.ylabel('Abs ($\\mu$g/$\\mu$L)')\n",
    "plt.subplot(212)\n",
    "Rt10=(1-response(Ab_conc(10,t)))*R0\n",
    "Rt30=(1-response(Ab_conc(30,t)))*R0\n",
    "\n",
    "plt.plot(t/7,Rt10,color=c1)\n",
    "#plt.fill_between(t/7,Rt10,np.ones(len(t)),color=c1, alpha='0.5')\n",
    "plt.plot(t/7,Rt30,color=c2)\n",
    "plt.plot(t/7,np.ones(len(t)),color='k',lw=3)\n",
    "#plt.fill_between(t/7,Rt30,np.ones(len(t)),color=c2, alpha='0.5')\n",
    "\n",
    "plt.xlabel('time (weeks)')\n",
    "plt.ylabel(r'$\\mathcal{R}(Ab,t)$',fontsize=12)\n",
    "plt.legend(['10mg/kg','30mg/kg'],loc=0,fontsize=10)\n",
    "plt.tight_layout()\n",
    "plt.gcf().savefig('Ab1dose.pdf')  # No warning now\n",
    "\n"
   ]
  },
  {
   "cell_type": "code",
   "execution_count": null,
   "metadata": {
    "collapsed": false
   },
   "outputs": [],
   "source": [
    "#run each simulation num times\n",
    "\n",
    "trial_days = 80*7\n",
    "\n",
    "t_trial=np.linspace(0,trial_days,5e3) #80 week trial\n",
    "\n",
    "trial_names=['msm10','msm30','msmc','w10','w30','wc']\n",
    "inc_rate = [3.,3.,3.,5.,5.,5.] #percent incidence per year\n",
    "size=[800,800,800,500,500,500]\n",
    "Ab0_list=[10,30,0,10,30,0]\n",
    "clist=[c1,c2,'k',c1,c2,'k']"
   ]
  },
  {
   "cell_type": "code",
   "execution_count": null,
   "metadata": {
    "collapsed": false
   },
   "outputs": [],
   "source": [
    "#actually simulate the trials\n",
    "trial_data=[]; incidences=[]\n",
    "for trial in range(len(trial_names)):\n",
    "    \n",
    "    Ab0=Ab0_list[trial] #Ab infusions for trial\n",
    "\n",
    "    #get rare events!\n",
    "    avg_inc = inc_rate[trial]/100/365*t_trial[-1] #the average over whole trial\n",
    "    inc_list = np.random.poisson(avg_inc,size[trial]) #list of incidences\n",
    "    real_inc = inc_list[inc_list>0] #list where incidence>0\n",
    "\n",
    "    print('there were '\n",
    "          + str(len(real_inc))\n",
    "          + ' individuals with '\n",
    "          + str(np.sum(real_inc)) \n",
    "          + ' incidences in trial '\n",
    "          + trial_names[trial])\n",
    "    \n",
    "    incidences.append(len(real_inc))\n",
    "    \n",
    "    #only loop over real incidences\n",
    "    tlp_all_sol=[]\n",
    "    for i in range(len(real_inc)):\n",
    "        \n",
    "        incx = np.round(np.random.random_sample((real_inc[i],))*len(t_trial)) #get n random indices for each person with n incidences\n",
    "\n",
    "        sol=0\n",
    "        for i in range(len(incx)):\n",
    "            inc_time = t_trial[int(incx[i])] #get each incidence time\n",
    "            sol=sol+bnabs_tauleap(t_trial,Ab0,inc_time) #add each incidence?\n",
    "        \n",
    "        tlp_all_sol.append(sol)\n",
    "\n",
    "    trial_data.append(tlp_all_sol)\n",
    "    "
   ]
  },
  {
   "cell_type": "code",
   "execution_count": null,
   "metadata": {
    "collapsed": false,
    "scrolled": true
   },
   "outputs": [],
   "source": [
    "#plot trial results\n",
    "\n",
    "cols=7\n",
    "for k in range(len(trial_names)):\n",
    "    \n",
    "    num = incidences[k]\n",
    "    \n",
    "    rows = int(np.ceil(num/cols))\n",
    "\n",
    "    f, axarr = plt.subplots(rows,cols,sharex=True,sharey=True,figsize=(10,8),dpi=600)\n",
    "    \n",
    "    for j in range(num):\n",
    "        ax=axarr[j%rows][j%cols]\n",
    "        ax.plot(t_trial/7,np.log10(trial_data[k][j][:,1]),color=clist[k],lw=3) #I\n",
    "        ax.plot(t_trial/7,np.log10(trial_data[k][j][:,2]),color=clist[k],lw=1,linestyle='-.') #I*\n",
    "        ax.tick_params(axis='both', which='major', labelsize=8)\n",
    "            \n",
    "    #plt.xticks(range(0,80,16),range(0,10,2))\n",
    "    plt.ylim([-1,9])\n",
    "  \n",
    "    plt.tight_layout()\n",
    "    plt.gcf().savefig(trial_names[k]+'.pdf')  # No warning now\n",
    "    "
   ]
  },
  {
   "cell_type": "code",
   "execution_count": null,
   "metadata": {
    "collapsed": true
   },
   "outputs": [],
   "source": []
  }
 ],
 "metadata": {
  "kernelspec": {
   "display_name": "Python 3",
   "language": "python",
   "name": "python3"
  },
  "language_info": {
   "codemirror_mode": {
    "name": "ipython",
    "version": 3
   },
   "file_extension": ".py",
   "mimetype": "text/x-python",
   "name": "python",
   "nbconvert_exporter": "python",
   "pygments_lexer": "ipython3",
   "version": "3.5.1"
  }
 },
 "nbformat": 4,
 "nbformat_minor": 0
}
