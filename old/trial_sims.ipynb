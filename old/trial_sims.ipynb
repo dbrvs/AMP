{
 "cells": [
  {
   "cell_type": "code",
   "execution_count": 1,
   "metadata": {
    "collapsed": false
   },
   "outputs": [],
   "source": [
    "#!/usr/bin/env python\n",
    "%matplotlib inline  \n",
    "\n",
    "import numpy as np\n",
    "import matplotlib.pyplot as plt\n",
    "import scipy.integrate as spi\n",
    "from scipy.stats import lognorm,norm\n",
    "from scipy import stats\n",
    "import pandas as pd\n",
    "\n",
    "rez=100"
   ]
  },
  {
   "cell_type": "code",
   "execution_count": 5,
   "metadata": {
    "collapsed": false
   },
   "outputs": [],
   "source": [
    "#whole AB model\n",
    "def Ab_model(t,A0,phi,r,s,hill,IC50):\n",
    "    Ab_t = A0*(np.exp(-r*t)+phi*np.exp(-s*t))\n",
    "    if A0>0:\n",
    "        E_t = 1/(1+(Ab_t/IC50)**-hill)\n",
    "    else:\n",
    "        E_t=0\n",
    "    return Ab_t,E_t\n",
    "\n",
    "#updating the rates of events\n",
    "num_rates=21; num_states=7; rl=np.zeros(num_rates); T=np.zeros([num_rates,num_states])\n",
    "\n",
    "def update_rates(X,ti,A0,phi,r,s,hill,IC50,psi):\n",
    "        \n",
    "    Ab_t,E_t = Ab_model(ti%56,A0,phi,r,s,hill,IC50)    #refreshes every 8 weeks\n",
    "\n",
    "    Bt=Bt0*(1-E_t) #ab dependent infectivity\n",
    "    \n",
    "    S=X[0]; AU=X[1]; AP=X[2]; LU=X[3]; LP=X[4]; E=X[5]; V=X[6];    \n",
    "    \n",
    "    #kp=0.1; pr=np.random.gamma(kp,p)\n",
    "    pr=np.random.poisson(p)\n",
    "    \n",
    "    rl[0] = aS;                     T[0][:]=[ 1,0,0,0,0,0,0];  #constant production \n",
    "    rl[1] = dS*S;                   T[1][:]=[-1,0,0,0,0,0,0]  #density dependent susceptible death\n",
    "    rl[2] = (1-tau)*(1-lam)*Bt*S*V; T[2][:]=[-1,1,0,0,0,0,-1] #unproductive active infection\n",
    "    rl[3] = tau*(1-lam)*Bt*S*V;     T[3][:]=[-1,0,1,0,0,0,-1] #productive active infection\n",
    "    rl[4] = (1-tau)*lam*Bt*S*V;     T[4][:]=[-1,0,0,1,0,0,-1] #unproductive latent infection\n",
    "    rl[5] = tau*lam*Bt*S*V;         T[5][:]=[-1,0,0,0,1,0,-1] #productive latent infection\n",
    "    rl[6] = dA*AU;                  T[6][:]=[0,-1,0,0,0,0,0]  #unproductive active death\n",
    "    rl[7] = dA*AP;                  T[7][:]=[0,0,-1,0,0,0,pr]  #productive active death and virus burst\n",
    "    rl[8] = dL*LU;                  T[8][:]=[0,0,0,-1,0,0,0]  #unproductive latent death\n",
    "    rl[9] = dL*LP;                  T[9][:]=[0,0,0,0,-1,0,0]  #productive latent death\n",
    "    rl[10] = aL*LU;                 T[10][:]=[0,0,0,1,0,0,0]  #unproductive latent proliferation\n",
    "    rl[11] = aL*LP;                 T[11][:]=[0,0,0,0,1,0,0]  #productive latent proliferation\n",
    "    rl[12] = xi*LU;                 T[12][:]=[0,1,0,-1,0,0,0]  #unproductive latent activation\n",
    "    rl[13] = xi*LP;                 T[13][:]=[0,0,1,0,-1,0,0]  #productive latent activation\n",
    "    rl[14] = k*E*AU;                T[14][:]=[0,-1,0,0,0,0,0]  #unproductive active immune removal\n",
    "    rl[15] = k*E*AP;                T[15][:]=[0,0,-1,0,0,0,0]  #productive active immune removal\n",
    "    rl[16] = w*E*(AP+AU)/(E+E50);   T[16][:]=[0,0,0,0,0,1,0]  #immune cell recruitment\n",
    "    rl[17] = aE;                    T[17][:]=[0,0,0,0,0,1,0]  #immune cell birth\n",
    "    rl[18] = dE*E;                  T[18][:]=[0,0,0,0,0,-1,0]  #immune cell clearance\n",
    "    rl[19] = g*V;                   T[19][:]=[0,0,0,0,0,0,-1]  #innate viral clearance\n",
    "    #rl[20] = psi*Ab_t*V;            T[20][:]=[0,0,0,0,0,0,-1]  #bnAb viral clearance\n",
    "    \n",
    "    return rl,T\n",
    "\n",
    "#function that solves stochastically using tau-leap method\n",
    "def bnabs_tauleap(t,fp_time,A0,phi,r,s,hill,IC50,psi):\n",
    "\n",
    "    dt=t[1]; x=np.array([aS/dS,0,0,0,0,aE/dE,0]); y=[] #initialize\n",
    "    fp_flag='no'\n",
    "    for ti in t:\n",
    "        \n",
    "        y.append(x) #the list of states\n",
    "\n",
    "        rate_list,T = update_rates(x,ti,A0,phi,r,s,hill,IC50,psi) #make new rate vector\n",
    "        \n",
    "        events = np.random.poisson(rate_list*dt) #calculate events\n",
    "        \n",
    "        events_list.append(events)\n",
    "        \n",
    "        dx = np.sum(np.matrix.transpose(T)*events,1) #calculate change in state\n",
    "        \n",
    "        x=x+dx #update state variable\n",
    "        \n",
    "        if ti>fp_time and fp_flag=='no':\n",
    "            x[2] = x[2] + 1\n",
    "            fp_flag=='yes'\n",
    " \n",
    "        x[x<1]=0 #make sure no negative numbers or fractions\n",
    "                \n",
    "    return np.array(y)"
   ]
  },
  {
   "cell_type": "code",
   "execution_count": 6,
   "metadata": {
    "collapsed": false
   },
   "outputs": [
    {
     "name": "stdout",
     "output_type": "stream",
     "text": [
      "2.8905527289546726\n"
     ]
    }
   ],
   "source": [
    "# parameters for viral dynamics model\n",
    "vol = 1e6       # volume of blood [uL]\n",
    "aS  = 125*vol;   #constant growth rate of susceptibles [cells/uL/day]\n",
    "dS  = 0.47;   #susceptible death rate [1/day] \n",
    "Bt0 = 1e-4/vol  # infection rate of T-cells [uL/cells-day]/[uL]\n",
    "dA  = 1.0       # active death rate [1/day]\n",
    "p   = 2e4       # burst rate of virus from cells [virions/cell]\n",
    "g   = 23        # virus clearance rate [1/day]\n",
    "tau = 0.05      # productive infection probability []\n",
    "lam = 1e-4      # latency probability []\n",
    "thL = 5.2e-4    # latent clearance rate [1/day]\n",
    "aL  = 0.015;    # latent proliferation rate [1/day] (Tcm)\n",
    "xi  = 1e-5;     # latent activation rate [1/day]\n",
    "dL  = aL-thL-xi # latent death rate\n",
    "k   = 0.3/vol;  #immune cell killing rate [uL/cell-day]/[uL]\n",
    "w   = 1.6;     #immune cell multiplier [1/day]\n",
    "aE  = 1e-4*vol;   #initial E cell concentration [cells/uL]*[uL]\n",
    "dE  = 0.002;  #immune death rate [1/day]\n",
    "E50 = 260*vol;   #50 pct max E cell concentration [cells/uL]*[uL]\n",
    "tau = 0.05   #productively infected probability\n",
    "p   = 5e4    #leak+burst viral production rate [virions/cell]\n",
    "g   = 23      #viral clearance [1/day]\n",
    "\n",
    "#equilibriu solutions\n",
    "#l=1-(1+xi/thL)*tau #latency factor\n",
    "#Xeq=np.array([g*dA/Bt0/p/l,tau/thL*(g*dS*dA/Bt0/p/l-aS),aS*l/dA-g*dS/Bt0/p,aS*p*l/g/dA-dS/Bt0])\n",
    "\n",
    "R0=aS*Bt0*tau*(1-lam)*p/g/dS/dA; print(R0) # basic reproductive number\n",
    "\n",
    "#PK parameters\n",
    "A0,phi,r,s = 0, 0, 0.348, 0.0538 #low 30 or high 10 dose range\n",
    "\n",
    "#PD parameters\n",
    "IC50=20 # IC50 [ug/uL]\n",
    "hill=1  # hill coefficient []\n",
    "psi=3\n",
    "\n",
    "x0=np.array([aS/dS,0,0,0,0,aE/dE,1e-3]) #initial model conditions\n",
    "\n",
    "tt=np.linspace(0,7*8,1e3)\n",
    "\n"
   ]
  },
  {
   "cell_type": "code",
   "execution_count": 8,
   "metadata": {
    "collapsed": false
   },
   "outputs": [
    {
     "name": "stderr",
     "output_type": "stream",
     "text": [
      "/Applications/anaconda/lib/python3.6/site-packages/ipykernel/__main__.py:31: RuntimeWarning: invalid value encountered in true_divide\n"
     ]
    },
    {
     "data": {
      "image/png": "[encoded data removed]",
      "text/plain": [
       "<matplotlib.figure.Figure at 0x118574be0>"
      ]
     },
     "metadata": {},
     "output_type": "display_data"
    }
   ],
   "source": [
    "#do simulations\n",
    "\n",
    "A0,phi,r,s = 1,0,0.348,0.0538 #low 30 or high 10 dose range\n",
    "#A0,phi,r,s = 225,35,0.348,0.0538 #low 30 or high 10 dose range\n",
    "IC50=2\n",
    "hill=1\n",
    "psi=0.01\n",
    "\n",
    "num_sims=5; \n",
    "tt=np.linspace(0,8*7,1e4)\n",
    "\n",
    "fp_time=0\n",
    "\n",
    "Ab_t,E_t = Ab_model(tt%56,A0,phi,r,s,hill,IC50)    #refreshes every 8 weeks\n",
    "\n",
    "col1='teal'\n",
    "col2='black'\n",
    "\n",
    "fig, ax = plt.subplots(2,1,figsize=(4,4),dpi=rez,sharex=True)\n",
    "#figE, axE = plt.subplots(3,7,figsize=(6,12),dpi=rez,sharex=True)\n",
    "ax1=ax[0]\n",
    "ax2=ax[1]\n",
    "rr=1\n",
    "for i in range(num_sims):\n",
    "    events_list=[]\n",
    "    tlp_sol = bnabs_tauleap(tt,0,A0,phi,r,s,hill,IC50,psi)\n",
    "    #axE[int(i/7)][i%7].plot(tt,np.array(E_list)[:,i])\n",
    "    dIdt=np.diff(tlp_sol[:,2])\n",
    "    I=tlp_sol[1:,2]\n",
    "    dt=tt[1]\n",
    "    Rt=1+dIdt/(I*dt*dA)\n",
    "    ax1.semilogy(tt[0::rr]/7,tlp_sol[0::rr,6]/vol*1e3+0.1,alpha=0.3,color=col1)\n",
    "    ax2.plot(tt[1:]/7,Rt,color=col2,alpha=0.3)\n",
    "\n",
    "ax1.set_ylabel('VL (copies/mL)',color=col1)\n",
    "ax2.set_xlabel('time (weeks)')\n",
    "ax1.tick_params('y', colors=col1)\n",
    "ax1.set_ylim([30,1e9])\n",
    "ax2.set_ylabel('$\\mathcal{R}(Ab,t)$',color=col2)\n",
    "ax2.tick_params('y', colors=col2)\n",
    "ax2.set_ylim([0,10])\n",
    "\n",
    "fig.tight_layout()\n",
    "\n",
    "fig.savefig('figures/sto_virus.pdf')  # No warning now\n"
   ]
  },
  {
   "cell_type": "code",
   "execution_count": null,
   "metadata": {
    "collapsed": false
   },
   "outputs": [],
   "source": [
    "#2 dose simulation\n",
    "\n",
    "t=np.linspace(0,16*7,1e4) #2 dose curve\n",
    "\n",
    "#best case scenario for treatment reasons\n",
    "ic80=10**min(log80); Abc=300 \n",
    "\n",
    "prop_inhib=response80(dose=Ab_conc(Abc,Abc/4,r1,r2,(t%56)/7),IC80=ic80)\n",
    "Rt=(1-prop_inhib)*R0 #R0 over time\n",
    "\n",
    "num_sims=10; \n",
    "trial_inds=np.linspace(0,len(t)-100,num_sims)\n",
    "\n",
    "plt.figure(figsize=(6,4),dpi=600)\n",
    "for i in range(num_sims):\n",
    "    tlp_sol = bnabs_tauleap(t,Ab0=Abc,inc_time=t[trial_inds[i]],IC80=ic80,X0=x0)\n",
    "    plt.subplot(211)\n",
    "    plt.plot(t/7,Rt,'k')\n",
    "    plt.ylim([0,10])\n",
    "    plt.ylabel(r'$\\mathcal{R}(Ab,t)$',fontsize=12)\n",
    "    plt.subplot(212)\n",
    "    plt.semilogy(t/7,tlp_sol[:,3]/5e3,alpha=0.6)\n",
    "    plt.ylabel('Viral load (copies/mL)')\n",
    "    plt.ylim([1,1e9])\n",
    "plt.xlabel('time (weeks)')\n",
    "\n",
    "plt.tight_layout()\n",
    "plt.gcf().savefig('10_exposures_best.pdf')  # No warning now\n"
   ]
  },
  {
   "cell_type": "code",
   "execution_count": null,
   "metadata": {
    "collapsed": false
   },
   "outputs": [],
   "source": [
    "\n",
    "#worst case scenario for treatment reasons\n",
    "ic80=10**max(log80); Abc=60 \n",
    "prop_inhib=response80(dose=Ab_conc(Abc,Abc/4,r1,r2,(t%56)/7),IC80=ic80)\n",
    "Rt=(1-prop_inhib)*R0 #R0 over time\n",
    "\n",
    "plt.figure(figsize=(6,4),dpi=600)\n",
    "for i in range(num_sims):\n",
    "    tlp_sol = bnabs_tauleap(t,Ab0=Abc,inc_time=t[trial_inds[i]],IC80=ic80,X0=x0)\n",
    "    plt.subplot(211)\n",
    "    plt.plot(t/7,Rt,'k')\n",
    "    plt.ylim([0,10])\n",
    "    plt.ylabel(r'$\\mathcal{R}(Ab,t)$',fontsize=12)\n",
    "    plt.subplot(212)\n",
    "    plt.semilogy(t/7,tlp_sol[:,3]/5e3,alpha=0.6)\n",
    "    plt.ylabel('Viral load (copies/mL)')\n",
    "    plt.ylim([1,1e9])\n",
    "plt.xlabel('time (weeks)')\n",
    "\n",
    "plt.tight_layout()\n",
    "plt.gcf().savefig('10_exposures_worst.pdf')  # No warning now\n",
    "\n"
   ]
  },
  {
   "cell_type": "code",
   "execution_count": null,
   "metadata": {
    "collapsed": false
   },
   "outputs": [],
   "source": [
    "#more realistic scenario\n",
    "ic80=10**np.median(log80); Abc=100 \n",
    "prop_inhib=response80(dose=Ab_conc(Abc,Abc/4,r1,r2,(t%56)/7),IC80=ic80)\n",
    "Rt=(1-prop_inhib)*R0 #R0 over time\n",
    "\n",
    "plt.figure(figsize=(6,4),dpi=600)\n",
    "for i in range(num_sims):\n",
    "    tlp_sol = bnabs_tauleap(t,Ab0=Abc,inc_time=t[trial_inds[i]],IC80=ic80,X0=x0)\n",
    "    plt.subplot(211)\n",
    "    plt.plot(t/7,Rt,'k')\n",
    "    plt.ylim([0,10])\n",
    "    plt.ylabel(r'$\\mathcal{R}(Ab,t)$',fontsize=12)\n",
    "    plt.subplot(212)\n",
    "    plt.semilogy(t/7,tlp_sol[:,3]/5e3,alpha=0.6)\n",
    "    plt.ylabel('Viral load (copies/mL)')\n",
    "    plt.ylim([1,1e9])\n",
    "plt.xlabel('time (weeks)')\n",
    "\n",
    "plt.tight_layout()\n",
    "plt.gcf().savefig('10_exposures_med.pdf')  # No warning now\n"
   ]
  },
  {
   "cell_type": "code",
   "execution_count": null,
   "metadata": {
    "collapsed": false
   },
   "outputs": [],
   "source": [
    "#run each simulation num times\n",
    "\n",
    "trial_days = 80*7\n",
    "\n",
    "t_trial=np.linspace(0,trial_days,1e4) #80 week trial\n",
    "\n",
    "trial_names=['msm10','msm30','msmc','w10','w30','wc']\n",
    "inc_rate = [3.,3.,3.,5.,5.,5.] #percent incidence per year\n",
    "size=[800,800,800,500,500,500]\n",
    "Ab0_list=[80,200,0,80,200,0]\n",
    "clist=['tan','cadetblue','k','tan','cadetblue','k']"
   ]
  },
  {
   "cell_type": "code",
   "execution_count": null,
   "metadata": {
    "collapsed": true
   },
   "outputs": [],
   "source": []
  },
  {
   "cell_type": "code",
   "execution_count": null,
   "metadata": {
    "collapsed": false
   },
   "outputs": [],
   "source": [
    "t_trial[obs]"
   ]
  },
  {
   "cell_type": "code",
   "execution_count": null,
   "metadata": {
    "collapsed": false
   },
   "outputs": [],
   "source": [
    "#actually simulate the trials\n",
    "trial_data=[]; incidences=[]; IC80_counter=[]; Ab0_counter=[]; R_counter=[];\n",
    "trial=0\n",
    "for trial in range(len(trial_names)):\n",
    "    \n",
    "    #get rare events!\n",
    "    avg_inc = inc_rate[trial]/100/365*t_trial[-1] #the average over whole trial\n",
    "    inc_list = np.random.poisson(avg_inc,size[trial]) #list of incidences\n",
    "    real_inc = inc_list[inc_list>0] #list where incidence>0\n",
    "\n",
    "    print('there were '\n",
    "          + str(len(real_inc))\n",
    "          + ' individuals with '\n",
    "          + str(np.sum(real_inc)) \n",
    "          + ' incidences in trial '\n",
    "          + trial_names[trial])\n",
    "    \n",
    "    incidences.append(len(real_inc))\n",
    "    \n",
    "    #only loop over real exposed participants\n",
    "    V_tot=[]\n",
    "    for i in range(len(real_inc)):\n",
    "        \n",
    "        incx = np.round(np.random.random_sample((real_inc[i],))*len(t_trial)) #get n random indices for each person with n incidences\n",
    "\n",
    "        #first solve\n",
    "        Ab0=np.random.poisson(Ab0_list[trial]) #random Ab infusions for trial\n",
    "        \n",
    "        inc_time = t_trial[int(incx[0])] #get each incidence time\n",
    "        \n",
    "        #keep track of Ab conc at incidence time\n",
    "        dose_at_inc = Ab_conc(Ab0,Ab0/4,r1,r2,(inc_time%56)/7)        \n",
    "        Ab0_counter.append(dose_at_inc)\n",
    "\n",
    "        #keep track of IC80 of infecting virus\n",
    "        IC80=np.random.choice(10**log80)\n",
    "        IC80_counter.append(IC80)\n",
    "        \n",
    "        #reproductive number at incidence\n",
    "        prop_inhib=response80(dose=dose_at_inc,IC80=IC80)\n",
    "        R_counter.append((1-prop_inhib)*R0) #R0 over time\n",
    "\n",
    "        tlp_sol = bnabs_tauleap(t_trial,Ab0=Ab0,inc_time=inc_time,IC80=IC80,X0=x0) #solve model with random IC80 from all possible\n",
    "        \n",
    "        V=tlp_sol[:,3]/5e3 #add each exposure VL \n",
    "        \n",
    "        #loop over each exposure per participants (some have more than 1!)\n",
    "        #if len(incx)>1:\n",
    "        #    for i in range(len(incx)-1):\n",
    "        #        tlp_sol = bnabs_tauleap(t,Ab0=Ab0,inc_time=inc_time,IC80=np.random.choice(10**log80),X0=tlp_sol[int(incx),:]) #solve with new initial conditions based on previous\n",
    "        #        V=V+tlp_sol[:,3]/5e3 #add each exposure VL \n",
    "        V_tot.append(V)\n",
    "    \n",
    "    trial_data.append(V_tot)\n",
    "    "
   ]
  },
  {
   "cell_type": "code",
   "execution_count": null,
   "metadata": {
    "collapsed": false
   },
   "outputs": [],
   "source": [
    "exposed_ppts = len(trial_data[trial])\n",
    "plt.figure(figsize=(10,10),dpi=100)\n",
    "for j in range(exposed_ppts):\n",
    "    plt.subplot(5,8,j+1)\n",
    "    plt.plot(t_trial/7/8,np.log10(trial_data[trial][j]),color=clist[trial],lw=3) #plot log10(V)\n",
    "    plt.title('IC$_{80}=$'+str(round(IC80_counter[j],1))+'\\n Ab='+str(round(Ab0_counter[j],1)),fontsize=8)\n",
    "    plt.tick_params(axis='both', which='major', labelsize=8)\n",
    "    plt.xlim([0,t_trial[len(t_trial)-1]/7/8])\n",
    "    plt.ylim([0,9])\n",
    "\n",
    "plt.tight_layout()\n",
    "plt.savefig(trial_names[trial]+'.pdf')  # No warning now\n"
   ]
  },
  {
   "cell_type": "code",
   "execution_count": null,
   "metadata": {
    "collapsed": false
   },
   "outputs": [],
   "source": [
    "#calculate statistics on all trials\n",
    "\n",
    "for trial in [len(trial_names)-1]:#range(len(trial_names)):\n",
    "    virus_at_end = np.array(trial_data[trial])[:,len(t)-1]\n",
    "    virus_at_end_yes = np.array(trial_data[trial])[:,len(t)-1]>0\n",
    "\n",
    "    x=virus_at_end_yes\n",
    "    y1=Ab0_counter\n",
    "    y2=IC80_counter\n",
    "\n",
    "    slope1, intercept1, r_value1, p_value1, std_err1 = stats.linregress(x,y1)\n",
    "    slope2, intercept2, r_value2, p_value2, std_err2 = stats.linregress(x,y2)\n",
    "\n",
    "    xx=np.linspace(0,1,1e3)\n",
    "\n",
    "    plt.figure(figsize=(7,3),dpi=600)\n",
    "\n",
    "    plt.subplot2grid((1, 4), (0, 0), colspan=1)\n",
    "    plt.scatter(virus_at_end_yes,Ab0_counter,color=clist[trial],s=50,marker='o')\n",
    "    plt.plot(xx,intercept1+slope1*xx,color='k',lw=3)\n",
    "    #plt.yscale('log')\n",
    "    plt.title('p='+str(round(p_value1,2)),fontsize=10)\n",
    "    plt.xticks([0,1],['virus -','virus +'])\n",
    "    plt.xlim([-0.2,1.2])\n",
    "    plt.ylabel('Ab conc \\n at incidence ($\\mu$g/$\\mu$L)')\n",
    "\n",
    "    plt.subplot2grid((1, 4), (0, 1), colspan=1)\n",
    "    plt.scatter(virus_at_end_yes,IC80_counter,color=clist[trial],s=50,marker='>')\n",
    "    #plt.yscale('log')\n",
    "    plt.plot(xx,intercept2+slope2*xx,color='k',lw=3)\n",
    "    plt.title('p='+str(round(p_value2,4)),fontsize=10)\n",
    "    plt.xlim([-0.2,1.2])\n",
    "    plt.xticks([0,1],['virus -','virus +'])\n",
    "    plt.ylabel('IC$_{80}$ of virus ($\\mu$g/$\\mu$L)')\n",
    "\n",
    "    plt.subplot2grid((1, 4), (0, 2), colspan=2)\n",
    "    plt.scatter(y1,y2,s=virus_at_end_yes*100,color=clist[trial],marker='+')\n",
    "    plt.scatter(y1,y2,s=np.abs(virus_at_end_yes-1)*10,color=clist[trial],marker='.')\n",
    "    plt.xscale('log')\n",
    "    plt.yscale('log')\n",
    "\n",
    "    plt.legend(['virus +','virus -'],fontsize=8,loc=4)\n",
    "    plt.xlabel('Ab conc at incidence ($\\mu$g/$\\mu$L)')\n",
    "    plt.ylabel('IC$_{80}$ of virus ($\\mu$g/$\\mu$L)')\n",
    "\n",
    "    plt.tight_layout()\n",
    "\n",
    "    plt.savefig(trial_names[trial]+'_corr.pdf')"
   ]
  },
  {
   "cell_type": "code",
   "execution_count": null,
   "metadata": {
    "collapsed": false
   },
   "outputs": [],
   "source": [
    "x=virus_at_end_yes\n",
    "y=Ab0_counter\n",
    "\n",
    "slope, intercept, r_value, p_value, std_err = stats.linregress(x,y)\n",
    "\n",
    "slope"
   ]
  },
  {
   "cell_type": "code",
   "execution_count": null,
   "metadata": {
    "collapsed": false
   },
   "outputs": [],
   "source": [
    "for trial in range(len(trial_names)):\n",
    "\n",
    "    #plot viral loads at all visits\n",
    "    obs=range(0,len(trial_data[trial][0][obs]),500)\n",
    "    plt.figure(figsize=(4,3),dpi=600)\n",
    "\n",
    "    for j in range(exposed_ppts):\n",
    "        plt.scatter(t_trial[obs]/7/4,np.log10(trial_data[trial][j][obs]),color=clist[trial],lw=1,alpha=0.5) #plot log10(V)            \n",
    "\n",
    "    plt.xlim([0,20])\n",
    "    plt.ylim([0,9])\n",
    "\n",
    "    plt.tight_layout()\n",
    "    plt.ylabel('viral load $\\log_{10}$(copies/mL)')\n",
    "    plt.xlabel('visit number')\n",
    "\n",
    "    plt.tight_layout()\n",
    "    plt.savefig(trial_names[k]+'_observed.pdf')  # No warning now\n",
    "\n",
    "    "
   ]
  },
  {
   "cell_type": "code",
   "execution_count": null,
   "metadata": {
    "collapsed": false
   },
   "outputs": [],
   "source": [
    "np.sum(np.array(trial_data[trial])[:,obs]>30,0)"
   ]
  },
  {
   "cell_type": "code",
   "execution_count": null,
   "metadata": {
    "collapsed": false
   },
   "outputs": [],
   "source": [
    "#plot percent positive at all visits\n",
    "obs=range(0,len(t_trial),500)\n",
    "plt.figure(figsize=(7,3),dpi=600)\n",
    "\n",
    "pos=np.sum(np.array(trial_data[trial])[:,obs]>30,0)\n",
    "\n",
    "low=np.sum(np.array(trial_data[trial])[:,obs]>0,0)\n",
    "\n",
    "plt.subplot(121)\n",
    "plt.scatter(t_trial[obs]/7/4,pos/exposed_ppts*100,color=clist[trial],lw=1) #plot log10(V)            \n",
    "plt.scatter(t_trial[obs]/7/4,(low-pos)/exposed_ppts*100,color=clist[trial],lw=1,marker='x') #plot log10(V)            \n",
    "plt.ylabel('percent')\n",
    "plt.xlabel('visit number')\n",
    "\n",
    "plt.legend(['virus +','false negative'])\n",
    "plt.xlim([0,20])\n",
    "\n",
    "plt.subplot(122)\n",
    "plt.scatter(t_trial[obs]/7/4,exposed_ppts-pos,color=clist[trial],lw=1) #plot log10(V)            \n",
    "plt.ylabel('infection events prevented')\n",
    "plt.xlabel('visit number')\n",
    "plt.xlim([0,20])\n",
    "\n",
    "plt.tight_layout()\n",
    "plt.savefig(trial_names[k]+'_pctpos.pdf')  # No warning now\n",
    "    "
   ]
  },
  {
   "cell_type": "code",
   "execution_count": null,
   "metadata": {
    "collapsed": true
   },
   "outputs": [],
   "source": [
    "#fraction protected (vaccine efficacy??)\n",
    "plt.figure(figsize=(4,3),dpi=600)\n",
    "\n",
    "pos=np.sum(np.array(trial_data[trial])[:,obs]>30,0)\n",
    "\n",
    "low=np.sum(np.array(trial_data[trial])[:,obs]>0,0)\n",
    "\n",
    "plt.scatter(t_trial[obs]/7/4,pos/exposed_ppts*100,color=clist[trial],lw=1) #plot log10(V)            \n",
    "plt.scatter(t_trial[obs]/7/4,(low-pos)/exposed_ppts*100,color=clist[trial],lw=1,marker='x') #plot log10(V)            \n",
    "plt.ylabel('percent')\n",
    "plt.xlabel('visit number')\n",
    "\n",
    "plt.legend(['virus +','false negative'])\n",
    "\n",
    "plt.xlim([0,20])\n",
    "#lt.ylim([0,9])\n",
    "\n",
    "plt.tight_layout()\n",
    "plt.savefig(trial_names[k]+'_pctpos.pdf')  # No warning now\n",
    "    "
   ]
  },
  {
   "cell_type": "code",
   "execution_count": null,
   "metadata": {
    "collapsed": true
   },
   "outputs": [],
   "source": []
  }
 ],
 "metadata": {
  "kernelspec": {
   "display_name": "Python 3",
   "language": "python",
   "name": "python3"
  },
  "language_info": {
   "codemirror_mode": {
    "name": "ipython",
    "version": 3
   },
   "file_extension": ".py",
   "mimetype": "text/x-python",
   "name": "python",
   "nbconvert_exporter": "python",
   "pygments_lexer": "ipython3",
   "version": "3.6.0"
  }
 },
 "nbformat": 4,
 "nbformat_minor": 0
}
